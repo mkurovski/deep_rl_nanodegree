{
 "cells": [
  {
   "cell_type": "markdown",
   "metadata": {},
   "source": [
    "# Udacity Deep Reinforcement Learning Nanodegree - Project 3: Collaboration and Competition"
   ]
  },
  {
   "cell_type": "markdown",
   "metadata": {},
   "source": [
    "## Demonstrating the Trained Multi-Agents"
   ]
  },
  {
   "cell_type": "code",
   "execution_count": 1,
   "metadata": {},
   "outputs": [],
   "source": [
    "import numpy as np\n",
    "import torch\n",
    "from unityagents import UnityEnvironment\n",
    "\n",
    "from agent import Agent"
   ]
  },
  {
   "cell_type": "code",
   "execution_count": 2,
   "metadata": {},
   "outputs": [],
   "source": [
    "params = {\n",
    "    'buffer_size': 2e5,\n",
    "    'batch_size': 256,\n",
    "    'n_random_episodes': 500,\n",
    "    'n_episodes': 2000,    \n",
    "    'max_steps': 750,\n",
    "    'update_step': 4,\n",
    "    'solution_threshold': .5,\n",
    "    'eval_window_length': 100,\n",
    "    'num_agents': 2,\n",
    "    'agent_seed': 33,\n",
    "    'env_seed': 33,\n",
    "    'buffer_seed': 33,\n",
    "    'gamma': 0.95,\n",
    "    'tau': 1e-2,\n",
    "    'first_hidden_units': 256,\n",
    "    'second_hidden_units': 256,\n",
    "    'lr_actor': 1e-3,\n",
    "    'lr_critic': 1e-3,\n",
    "    'critic_weight_decay': 0,\n",
    "    'add_noise': True,\n",
    "    'noise_sigma': 0.2,\n",
    "    'noise_scale_start': 2.0,\n",
    "    'noise_scale_min': 0.2,\n",
    "    'noise_scale_decay': 0.9995\n",
    "}"
   ]
  },
  {
   "cell_type": "code",
   "execution_count": 3,
   "metadata": {},
   "outputs": [
    {
     "name": "stderr",
     "output_type": "stream",
     "text": [
      "INFO:unityagents:\n",
      "'Academy' started successfully!\n",
      "Unity Academy name: Academy\n",
      "        Number of Brains: 1\n",
      "        Number of External Brains : 1\n",
      "        Lesson number : 0\n",
      "        Reset Parameters :\n",
      "\t\t\n",
      "Unity brain name: TennisBrain\n",
      "        Number of Visual Observations (per agent): 0\n",
      "        Vector Observation space type: continuous\n",
      "        Vector Observation space size (per agent): 8\n",
      "        Number of stacked Vector Observation: 3\n",
      "        Vector Action space type: continuous\n",
      "        Vector Action space size (per agent): 2\n",
      "        Vector Action descriptions: , \n"
     ]
    }
   ],
   "source": [
    "env = UnityEnvironment(file_name=\"Tennis.app\",\n",
    "                       no_graphics=False)\n",
    "# get the default brain\n",
    "brain_name = env.brain_names[0]\n",
    "brain = env.brains[brain_name]"
   ]
  },
  {
   "cell_type": "code",
   "execution_count": 4,
   "metadata": {},
   "outputs": [],
   "source": [
    "env_info = env.reset(train_mode=False)[brain_name]\n",
    "state_size = env_info.vector_observations[0].shape[0]\n",
    "action_size = brain.vector_action_space_size"
   ]
  },
  {
   "cell_type": "code",
   "execution_count": 5,
   "metadata": {},
   "outputs": [],
   "source": [
    "agent_0_actor_filename = 'agent_0_best_actor_e_1876.pth'\n",
    "agent_0_critic_filename = 'agent_0_best_critic_e_1876.pth'\n",
    "agent_1_actor_filename = 'agent_1_best_actor_e_1876.pth'\n",
    "agent_1_critic_filename = 'agent_1_best_critic_e_1876.pth'"
   ]
  },
  {
   "cell_type": "code",
   "execution_count": 6,
   "metadata": {},
   "outputs": [],
   "source": [
    "agents = {}\n",
    "for num_agent in range(params['num_agents']):\n",
    "    agents[num_agent] = Agent(state_size=state_size, action_size=action_size,\n",
    "                              agent_no=num_agent, params=params)"
   ]
  },
  {
   "cell_type": "code",
   "execution_count": 7,
   "metadata": {},
   "outputs": [],
   "source": [
    "agents[0].actor_local.load_state_dict(torch.load(agent_0_actor_filename))\n",
    "agents[0].critic_local.load_state_dict(torch.load(agent_0_critic_filename))\n",
    "agents[1].actor_local.load_state_dict(torch.load(agent_1_actor_filename))\n",
    "agents[1].critic_local.load_state_dict(torch.load(agent_1_critic_filename))"
   ]
  },
  {
   "cell_type": "code",
   "execution_count": 8,
   "metadata": {},
   "outputs": [],
   "source": [
    "env_info = env.reset(train_mode=False)[brain_name]\n",
    "states = env_info.vector_observations\n",
    "for t in range(500):\n",
    "    actions = [agent.act(env_info.vector_observations[no_agent], add_noise=False)\n",
    "               for no_agent, agent in agents.items()]\n",
    "    actions = np.concatenate(actions, axis=0).reshape((params['num_agents'], action_size))\n",
    "    env_info = env.step(actions)[brain_name]\n",
    "    next_states = env_info.vector_observations\n",
    "    states = next_states"
   ]
  },
  {
   "cell_type": "code",
   "execution_count": 9,
   "metadata": {},
   "outputs": [],
   "source": [
    "env.close()"
   ]
  }
 ],
 "metadata": {
  "kernelspec": {
   "display_name": "Python 3",
   "language": "python",
   "name": "python3"
  },
  "language_info": {
   "codemirror_mode": {
    "name": "ipython",
    "version": 3
   },
   "file_extension": ".py",
   "mimetype": "text/x-python",
   "name": "python",
   "nbconvert_exporter": "python",
   "pygments_lexer": "ipython3",
   "version": "3.6.7"
  }
 },
 "nbformat": 4,
 "nbformat_minor": 2
}
