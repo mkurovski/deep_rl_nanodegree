{
 "cells": [
  {
   "cell_type": "code",
   "execution_count": 1,
   "metadata": {},
   "outputs": [],
   "source": [
    "%load_ext autoreload\n",
    "%autoreload 2"
   ]
  },
  {
   "cell_type": "markdown",
   "metadata": {},
   "source": [
    "# Udacity Deep Reinforcement Learning Nanodegree - Project 3: Collaboration and Competition"
   ]
  },
  {
   "cell_type": "code",
   "execution_count": 2,
   "metadata": {},
   "outputs": [],
   "source": [
    "from collections import deque\n",
    "\n",
    "from unityagents import UnityEnvironment\n",
    "import numpy as np\n",
    "\n",
    "from agent import Agent, ReplayBuffer"
   ]
  },
  {
   "cell_type": "markdown",
   "metadata": {},
   "source": [
    "## Set everything up"
   ]
  },
  {
   "cell_type": "markdown",
   "metadata": {},
   "source": [
    "* Parameters\n",
    "* Unity environment\n",
    "* Agent"
   ]
  },
  {
   "cell_type": "markdown",
   "metadata": {},
   "source": [
    "## Parameters"
   ]
  },
  {
   "cell_type": "code",
   "execution_count": 3,
   "metadata": {},
   "outputs": [],
   "source": [
    "params = {\n",
    "    'buffer_size': 1e5,\n",
    "    'batch_size': 128,\n",
    "    'n_episodes': 10000,\n",
    "    'max_steps': 500,\n",
    "    'update_step': 5,\n",
    "    'solution_threshold': .5,\n",
    "    'eval_window_length': 100,\n",
    "    'num_agents': 2,\n",
    "    'agent_seed': 33,\n",
    "    'env_seed': 33,\n",
    "    'buffer_seed': 33,\n",
    "    'gamma': 1.,\n",
    "    'tau': 1e-3,\n",
    "    'lr_actor': 1e-4,\n",
    "    'lr_critic': 1e-4,\n",
    "    'critic_weight_decay': 0,\n",
    "    'noise_sigma': 0.2\n",
    "}"
   ]
  },
  {
   "cell_type": "code",
   "execution_count": 4,
   "metadata": {},
   "outputs": [
    {
     "name": "stderr",
     "output_type": "stream",
     "text": [
      "INFO:unityagents:\n",
      "'Academy' started successfully!\n",
      "Unity Academy name: Academy\n",
      "        Number of Brains: 1\n",
      "        Number of External Brains : 1\n",
      "        Lesson number : 0\n",
      "        Reset Parameters :\n",
      "\t\t\n",
      "Unity brain name: TennisBrain\n",
      "        Number of Visual Observations (per agent): 0\n",
      "        Vector Observation space type: continuous\n",
      "        Vector Observation space size (per agent): 8\n",
      "        Number of stacked Vector Observation: 3\n",
      "        Vector Action space type: continuous\n",
      "        Vector Action space size (per agent): 2\n",
      "        Vector Action descriptions: , \n"
     ]
    }
   ],
   "source": [
    "env = UnityEnvironment(file_name=\"Tennis.app\",\n",
    "                       seed=params['env_seed'],\n",
    "                       no_graphics=False)\n",
    "# get the default brain\n",
    "brain_name = env.brain_names[0]\n",
    "brain = env.brains[brain_name]"
   ]
  },
  {
   "cell_type": "code",
   "execution_count": 5,
   "metadata": {},
   "outputs": [
    {
     "name": "stdout",
     "output_type": "stream",
     "text": [
      "Number of agents: 2\n",
      "Size of each action: 2\n",
      "There are 2 agents. Each observes a state with length: 24\n",
      "The state for the first agent looks like: [ 0.          0.          0.          0.          0.          0.\n",
      "  0.          0.          0.          0.          0.          0.\n",
      "  0.          0.          0.          0.         -6.93938923 -1.5\n",
      " -0.          0.         -7.46356201  6.         -0.          0.        ]\n"
     ]
    }
   ],
   "source": [
    "# reset the environment\n",
    "env_info = env.reset(train_mode=False)[brain_name]\n",
    "\n",
    "# number of agents \n",
    "num_agents = len(env_info.agents)\n",
    "print('Number of agents:', num_agents)\n",
    "\n",
    "# size of each action\n",
    "action_size = brain.vector_action_space_size\n",
    "print('Size of each action:', action_size)\n",
    "\n",
    "# examine the state space \n",
    "states = env_info.vector_observations\n",
    "state_size = states.shape[1]\n",
    "print('There are {} agents. Each observes a state with length: {}'.format(states.shape[0], state_size))\n",
    "print('The state for the first agent looks like:', states[0])"
   ]
  },
  {
   "cell_type": "code",
   "execution_count": 6,
   "metadata": {},
   "outputs": [],
   "source": [
    "action_size = brain.vector_action_space_size\n",
    "state_size = env_info.vector_observations.shape[1]"
   ]
  },
  {
   "cell_type": "markdown",
   "metadata": {},
   "source": [
    "## Instantiate multiple DDPG Agent and Shared Replay Buffer"
   ]
  },
  {
   "cell_type": "code",
   "execution_count": 7,
   "metadata": {},
   "outputs": [],
   "source": [
    "agents = {}\n",
    "for num_agent in range(params['num_agents']):\n",
    "    agents[num_agent] = Agent(state_size=state_size, action_size=action_size,\n",
    "                              agent_no=num_agent, params=params)\n",
    "\n",
    "replay_buffer = ReplayBuffer(params=params)"
   ]
  },
  {
   "cell_type": "markdown",
   "metadata": {},
   "source": [
    "## Train the Agent with DDPG (Deep Deterministic Policy Gradients)"
   ]
  },
  {
   "cell_type": "code",
   "execution_count": 8,
   "metadata": {
    "scrolled": false
   },
   "outputs": [
    {
     "name": "stdout",
     "output_type": "stream",
     "text": [
      "Episode 100\tAverage Score: 0.02\n",
      "Episode 200\tAverage Score: 0.02\n",
      "Episode 300\tAverage Score: 0.02\n",
      "Episode 400\tAverage Score: 0.01\n",
      "Episode 500\tAverage Score: 0.01\n",
      "Episode 600\tAverage Score: 0.02\n",
      "Episode 700\tAverage Score: 0.02\n",
      "Episode 800\tAverage Score: 0.01\n",
      "Episode 900\tAverage Score: 0.00\n",
      "Episode 1000\tAverage Score: 0.00\n",
      "Episode 1100\tAverage Score: 0.00\n",
      "Episode 1200\tAverage Score: 0.00\n",
      "Episode 1300\tAverage Score: 0.00\n",
      "Episode 1400\tAverage Score: 0.00\n",
      "Episode 1500\tAverage Score: 0.00\n",
      "Episode 1600\tAverage Score: 0.00\n",
      "Episode 1700\tAverage Score: 0.00\n",
      "Episode 1800\tAverage Score: 0.00\n",
      "Episode 1900\tAverage Score: 0.00\n",
      "Episode 2000\tAverage Score: 0.00\n",
      "Episode 2100\tAverage Score: 0.00\n",
      "Episode 2200\tAverage Score: 0.00\n",
      "Episode 2300\tAverage Score: 0.00\n",
      "Episode 2400\tAverage Score: 0.00\n",
      "Episode 2500\tAverage Score: 0.00\n",
      "Episode 2600\tAverage Score: 0.00\n",
      "Episode 2700\tAverage Score: 0.00\n",
      "Episode 2800\tAverage Score: 0.00\n",
      "Episode 2900\tAverage Score: 0.00\n",
      "Episode 3000\tAverage Score: 0.00\n",
      "Episode 3100\tAverage Score: 0.00\n",
      "Episode 3200\tAverage Score: 0.00\n",
      "Episode 3300\tAverage Score: 0.00\n",
      "Episode 3400\tAverage Score: 0.00\n",
      "Episode 3500\tAverage Score: 0.00\n",
      "Episode 3600\tAverage Score: 0.00\n",
      "Episode 3700\tAverage Score: 0.00\n",
      "Episode 3800\tAverage Score: 0.00\n",
      "Episode 3900\tAverage Score: 0.00\n",
      "Episode 4000\tAverage Score: 0.00\n",
      "Episode 4100\tAverage Score: 0.00\n",
      "Episode 4200\tAverage Score: 0.00\n",
      "Episode 4300\tAverage Score: 0.00\n",
      "Episode 4400\tAverage Score: 0.00\n",
      "Episode 4500\tAverage Score: 0.00\n",
      "Episode 4600\tAverage Score: 0.00\n",
      "Episode 4700\tAverage Score: 0.01\n",
      "Episode 4800\tAverage Score: 0.01\n",
      "Episode 4900\tAverage Score: 0.02\n",
      "Episode 5000\tAverage Score: 0.00\n",
      "Episode 5100\tAverage Score: 0.00\n",
      "Episode 5200\tAverage Score: 0.00\n",
      "Episode 5300\tAverage Score: 0.00\n",
      "Episode 5400\tAverage Score: 0.00\n",
      "Episode 5500\tAverage Score: 0.00\n",
      "Episode 5600\tAverage Score: 0.00\n",
      "Episode 5700\tAverage Score: 0.00\n",
      "Episode 5800\tAverage Score: 0.00\n",
      "Episode 5900\tAverage Score: 0.00\n",
      "Episode 6000\tAverage Score: 0.00\n",
      "Episode 6100\tAverage Score: 0.00\n",
      "Episode 6200\tAverage Score: 0.02\n",
      "Episode 6300\tAverage Score: 0.01\n",
      "Episode 6400\tAverage Score: 0.02\n",
      "Episode 6500\tAverage Score: 0.01\n",
      "Episode 6600\tAverage Score: 0.01\n",
      "Episode 6700\tAverage Score: 0.02\n",
      "Episode 6800\tAverage Score: 0.00\n",
      "Episode 6900\tAverage Score: 0.01\n",
      "Episode 7000\tAverage Score: 0.00\n",
      "Episode 7100\tAverage Score: 0.01\n",
      "Episode 7200\tAverage Score: 0.02\n",
      "Episode 7300\tAverage Score: 0.01\n",
      "Episode 7400\tAverage Score: 0.03\n",
      "Episode 7500\tAverage Score: 0.01\n",
      "Episode 7600\tAverage Score: 0.01\n",
      "Episode 7700\tAverage Score: 0.01\n",
      "Episode 7800\tAverage Score: 0.00\n",
      "Episode 7900\tAverage Score: 0.01\n",
      "Episode 8000\tAverage Score: 0.02\n",
      "Episode 8100\tAverage Score: 0.02\n",
      "Episode 8200\tAverage Score: 0.00\n",
      "Episode 8300\tAverage Score: 0.01\n",
      "Episode 8400\tAverage Score: 0.03\n",
      "Episode 8500\tAverage Score: 0.04\n",
      "Episode 8600\tAverage Score: 0.04\n",
      "Episode 8700\tAverage Score: 0.05\n",
      "Episode 8800\tAverage Score: 0.03\n",
      "Episode 8900\tAverage Score: 0.02\n",
      "Episode 9000\tAverage Score: 0.01\n",
      "Episode 9100\tAverage Score: 0.03\n",
      "Episode 9200\tAverage Score: 0.04\n",
      "Episode 9300\tAverage Score: 0.16\n",
      "Episode 9400\tAverage Score: 0.07\n",
      "Episode 9500\tAverage Score: 0.06\n",
      "Episode 9600\tAverage Score: 0.05\n",
      "Episode 9700\tAverage Score: 0.05\n",
      "Episode 9800\tAverage Score: 0.06\n",
      "Episode 9900\tAverage Score: 0.06\n",
      "Episode 10000\tAverage Score: 0.06\n",
      "Score (max over agents) from episode 10000 (130 steps): 0.9000000134110451\n"
     ]
    }
   ],
   "source": [
    "eval_window_lengths = params['eval_window_length']\n",
    "env_is_solved = False\n",
    "scores = []\n",
    "scores_window = deque(maxlen=eval_window_lengths)\n",
    "best_score = 0\n",
    "\n",
    "scale = 3.0\n",
    "min_scale = 0.2\n",
    "scale_decay = 0.9995\n",
    "\n",
    "for i_episode in range(1, params['n_episodes']+1):\n",
    "    episode_scores = np.zeros(params['num_agents'])\n",
    "    best_score = 0\n",
    "    for agent in agents.values():\n",
    "        agent.reset()\n",
    "    env_info = env.reset(train_mode=True)[brain_name]\n",
    "    states = env_info.vector_observations\n",
    "    \n",
    "    # fill part of the buffer with purely random samples\n",
    "    if i_episode < 700:\n",
    "        for step in range(params['max_steps']):\n",
    "            actions = np.random.uniform(-1, 1, (params['num_agents'], action_size))\n",
    "            env_info = env.step(actions)[brain_name] \n",
    "            next_states = env_info.vector_observations\n",
    "            rewards = env_info.rewards\n",
    "            dones = env_info.local_done\n",
    "            \n",
    "            replay_buffer.add(states, actions, rewards, next_states, dones)\n",
    "            \n",
    "            episode_scores += rewards\n",
    "            states = next_states\n",
    "\n",
    "            if np.any(dones):\n",
    "                break\n",
    "            \n",
    "    else:\n",
    "        for step in range(params['max_steps']):\n",
    "            actions = [agent.act(env_info.vector_observations[no_agent], scale=scale)\n",
    "                       for no_agent, agent in enumerate(agents.values())]\n",
    "            actions = np.concatenate(actions, axis=0).reshape((params['num_agents'], action_size))\n",
    "\n",
    "            env_info = env.step(actions)[brain_name]\n",
    "\n",
    "            next_states = env_info.vector_observations\n",
    "            rewards = env_info.rewards\n",
    "            dones = env_info.local_done\n",
    "\n",
    "            replay_buffer.add(states, actions, rewards, next_states, dones)\n",
    "\n",
    "            for agent in agents.values():\n",
    "                agent.step(replay_buffer, agents)\n",
    "\n",
    "            episode_scores += rewards\n",
    "            states = next_states\n",
    "            scale = max(min_scale, scale*scale_decay)\n",
    "\n",
    "            if np.any(dones):\n",
    "                break\n",
    "    \n",
    "    score = max(episode_scores)\n",
    "    scores.append(score)\n",
    "    # np.save('scores', scores)\n",
    "    scores_window.append(score)\n",
    "    \n",
    "    print('\\rEpisode {}\\tAverage Score: {:.2f}'.format(i_episode, score), end=\"\")\n",
    "    \n",
    "    if i_episode % params['eval_window_length'] == 0:\n",
    "            print('\\rEpisode {}\\tAverage Score: {:.2f}'.format(i_episode, np.mean(scores_window)))\n",
    "            \n",
    "    if (np.mean(scores_window) >= params['solution_threshold']) & (not env_is_solved):\n",
    "        print('\\nEnvironment solved in {:d} episodes!\\tAverage Score: {:.2f}'.format(i_episode,\n",
    "                                                                                     np.mean(scores_window)))\n",
    "        env_is_solved = True\n",
    "        \n",
    "    if env_is_solved & (score > best_score):\n",
    "            best_score = score\n",
    "    \n",
    "print('Score (max over agents) from episode {} ({} steps): {}'.format(i_episode, step, np.max(scores)))"
   ]
  },
  {
   "cell_type": "code",
   "execution_count": null,
   "metadata": {},
   "outputs": [],
   "source": [
    "env.close()"
   ]
  },
  {
   "cell_type": "markdown",
   "metadata": {},
   "source": [
    "## Performance Plot"
   ]
  },
  {
   "cell_type": "code",
   "execution_count": null,
   "metadata": {},
   "outputs": [],
   "source": [
    "average_scores = np.array([np.mean(avg_scores[i:(i+params['eval_window_length'])])\n",
    "                           for i in range(len(avg_scores)-params['eval_window_length'])])\n",
    "steps = len(avg_scores)\n",
    "\n",
    "fig = plt.figure(figsize=(15, 10))\n",
    "plt.plot(np.arange(steps), avg_scores, linewidth=1.5)\n",
    "plt.plot(np.arange(params['eval_window_length'], steps), average_scores, 'g-')\n",
    "plt.plot(np.arange(steps), [params['solution_threshold']]*steps, 'r-')\n",
    "plt.ylabel('Score', fontsize=16)\n",
    "plt.xlabel('Episode #', fontsize=16)\n",
    "plt.legend(['Score', 'Average Score (w = 100)', 'Solution Threshold'])\n",
    "plt.grid(True)\n",
    "plt.show()"
   ]
  },
  {
   "cell_type": "code",
   "execution_count": null,
   "metadata": {},
   "outputs": [],
   "source": [
    "print(\"Environment was solved in Episode {}!\".format(\n",
    "      np.argmax((average_scores >= params['solution_threshold']))+params['eval_window_length']))"
   ]
  },
  {
   "cell_type": "code",
   "execution_count": null,
   "metadata": {},
   "outputs": [],
   "source": [
    "print(\"First Episode with Agent-Average Score >= 30.0: {}!\".format(\n",
    "    np.argmax(np.array(avg_scores) >= params['solution_threshold'])))"
   ]
  }
 ],
 "metadata": {
  "kernelspec": {
   "display_name": "Python 3",
   "language": "python",
   "name": "python3"
  },
  "language_info": {
   "codemirror_mode": {
    "name": "ipython",
    "version": 3
   },
   "file_extension": ".py",
   "mimetype": "text/x-python",
   "name": "python",
   "nbconvert_exporter": "python",
   "pygments_lexer": "ipython3",
   "version": "3.6.7"
  }
 },
 "nbformat": 4,
 "nbformat_minor": 2
}
