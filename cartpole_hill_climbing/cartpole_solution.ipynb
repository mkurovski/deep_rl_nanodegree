{
 "cells": [
  {
   "cell_type": "code",
   "execution_count": 204,
   "metadata": {},
   "outputs": [],
   "source": [
    "from copy import deepcopy\n",
    "from time import sleep\n",
    "\n",
    "import gym\n",
    "import matplotlib.pyplot as plt\n",
    "import numpy as np\n",
    "import torch"
   ]
  },
  {
   "cell_type": "markdown",
   "metadata": {},
   "source": [
    "https://openai.com/requests-for-research/#cartpole"
   ]
  },
  {
   "cell_type": "markdown",
   "metadata": {},
   "source": [
    "## Explore `gym` and the `CartPole-v0` environment"
   ]
  },
  {
   "cell_type": "code",
   "execution_count": 2,
   "metadata": {},
   "outputs": [
    {
     "name": "stderr",
     "output_type": "stream",
     "text": [
      "/home/mkurovski/anaconda3/envs/drl/lib/python3.6/site-packages/gym/envs/registration.py:14: PkgResourcesDeprecationWarning: Parameters to load are deprecated.  Call .resolve and .require separately.\n",
      "  result = entry_point.load(False)\n"
     ]
    }
   ],
   "source": [
    "env = gym.envs.make('CartPole-v0')"
   ]
  },
  {
   "cell_type": "code",
   "execution_count": 3,
   "metadata": {},
   "outputs": [
    {
     "data": {
      "text/plain": [
       "array([ 0.0207682 , -0.0382533 ,  0.01408467,  0.00032193])"
      ]
     },
     "execution_count": 3,
     "metadata": {},
     "output_type": "execute_result"
    }
   ],
   "source": [
    "env.reset()"
   ]
  },
  {
   "cell_type": "code",
   "execution_count": 4,
   "metadata": {},
   "outputs": [
    {
     "data": {
      "text/plain": [
       "Discrete(2)"
      ]
     },
     "execution_count": 4,
     "metadata": {},
     "output_type": "execute_result"
    }
   ],
   "source": [
    "env.action_space"
   ]
  },
  {
   "cell_type": "code",
   "execution_count": 5,
   "metadata": {},
   "outputs": [
    {
     "data": {
      "text/plain": [
       "True"
      ]
     },
     "execution_count": 5,
     "metadata": {},
     "output_type": "execute_result"
    }
   ],
   "source": [
    "env.action_space.contains(0)"
   ]
  },
  {
   "cell_type": "code",
   "execution_count": 6,
   "metadata": {},
   "outputs": [
    {
     "data": {
      "text/plain": [
       "True"
      ]
     },
     "execution_count": 6,
     "metadata": {},
     "output_type": "execute_result"
    }
   ],
   "source": [
    "env.action_space.contains(1)"
   ]
  },
  {
   "cell_type": "code",
   "execution_count": 7,
   "metadata": {},
   "outputs": [
    {
     "data": {
      "text/plain": [
       "Box(4,)"
      ]
     },
     "execution_count": 7,
     "metadata": {},
     "output_type": "execute_result"
    }
   ],
   "source": [
    "env.observation_space"
   ]
  },
  {
   "cell_type": "code",
   "execution_count": 8,
   "metadata": {},
   "outputs": [
    {
     "data": {
      "text/plain": [
       "(array([ 0.02000313, -0.23357438,  0.01409111,  0.29741525]), 1.0, False, {})"
      ]
     },
     "execution_count": 8,
     "metadata": {},
     "output_type": "execute_result"
    }
   ],
   "source": [
    "env.step(0)"
   ]
  },
  {
   "cell_type": "code",
   "execution_count": 9,
   "metadata": {},
   "outputs": [],
   "source": [
    "action = 0"
   ]
  },
  {
   "cell_type": "code",
   "execution_count": 10,
   "metadata": {},
   "outputs": [
    {
     "name": "stdout",
     "output_type": "stream",
     "text": [
      "Reward: 1.0\n"
     ]
    }
   ],
   "source": [
    "next_state, reward, done, _ = env.step(action)\n",
    "if not done:\n",
    "    print(\"Reward:\", reward)"
   ]
  },
  {
   "cell_type": "markdown",
   "metadata": {},
   "source": [
    "Watch a random agent"
   ]
  },
  {
   "cell_type": "code",
   "execution_count": 11,
   "metadata": {},
   "outputs": [],
   "source": [
    "for i in range(200):\n",
    "    env.render()\n",
    "    sleep(0.1)\n",
    "    action = np.random.randint(2)\n",
    "    next_state, reward, done, _ = env.step(action)\n",
    "    if done:\n",
    "        env.reset()\n",
    "\n",
    "env.close()"
   ]
  },
  {
   "cell_type": "markdown",
   "metadata": {},
   "source": [
    "## Simple Neural Network Approach"
   ]
  },
  {
   "cell_type": "code",
   "execution_count": 262,
   "metadata": {},
   "outputs": [],
   "source": [
    "class Agent(torch.nn.Module):\n",
    "    def __init__(self, state_size: int, action_size: int, hidden_size_1):\n",
    "        super(Agent, self).__init__()\n",
    "        self.actions = list(range(action_size))\n",
    "        self.linear_1 = torch.nn.Linear(state_size, hidden_size_1)\n",
    "        self.linear_2 = torch.nn.Linear(hidden_size_1, action_size)\n",
    "        self.softmax = torch.nn.Softmax(dim=0)\n",
    "        \n",
    "    def _forward(self, state: np.ndarray):\n",
    "        x = torch.from_numpy(state).float()\n",
    "        x = self.linear_1(x)\n",
    "        x = self.linear_2(x)\n",
    "        \n",
    "        return self.softmax(x)\n",
    "        \n",
    "    def get_action(self, state):\n",
    "        action_probabilities = self._forward(state).detach().numpy()\n",
    "        # sample an action according to the softmax probabilities (stochastic policy)\n",
    "        action = np.random.choice(self.actions, size=1, p=action_probabilities)[0]\n",
    "        \n",
    "        return action\n",
    "        \n",
    "    def get_params(self):\n",
    "        params = dict.fromkeys(['weights_1', 'biases_1',\n",
    "                                'weights_2', 'biases_2'])\n",
    "        params['weights_1'] = self.linear_1.weight.detach()\n",
    "        params['biases_1'] = self.linear_1.bias.detach()\n",
    "        params['weights_2'] = self.linear_2.weight.detach()\n",
    "        params['biases_2'] = self.linear_2.bias.detach()\n",
    "        \n",
    "        return params\n",
    "        \n",
    "    def set_params(self, new_params: dict):\n",
    "        cartpole_agent.linear_1.weight = torch.nn.Parameter(new_params['weights_1'])\n",
    "        cartpole_agent.linear_1.bias = torch.nn.Parameter(new_params['biases_1'])\n",
    "        cartpole_agent.linear_2.weight = torch.nn.Parameter(new_params['weights_2'])\n",
    "        cartpole_agent.linear_2.bias = torch.nn.Parameter(new_params['biases_2'])"
   ]
  },
  {
   "cell_type": "code",
   "execution_count": 263,
   "metadata": {},
   "outputs": [],
   "source": [
    "def add_noise(params: dict, noise_std: float=0.1, noise_mean: float=0.):\n",
    "    params_cand = deepcopy(params)\n",
    "    for key, val in params_cand.items():\n",
    "        shape = val.shape\n",
    "        params_cand[key] = val + (torch.randn(shape)*noise_std + noise_mean)\n",
    "    \n",
    "    return params_cand"
   ]
  },
  {
   "cell_type": "code",
   "execution_count": 269,
   "metadata": {},
   "outputs": [],
   "source": [
    "def run_single_episode(env, agent) -> int:\n",
    "    \"\"\"\n",
    "    Runs agent within an environment for a single episode\n",
    "    and returns the cumulative reward\n",
    "    \"\"\"\n",
    "    G = 0\n",
    "    state = env.reset()\n",
    "    while True:\n",
    "        action = agent.get_action(state)\n",
    "        next_state, reward, done, _ = env.step(action)\n",
    "        G += reward\n",
    "        state = next_state\n",
    "        if done:\n",
    "            state = env.reset()\n",
    "            break\n",
    "    \n",
    "    return G"
   ]
  },
  {
   "cell_type": "code",
   "execution_count": 270,
   "metadata": {},
   "outputs": [],
   "source": [
    "def perform_hill_climbing(agent, env, n_episodes: int=500,\n",
    "                          initial_noise_std: float=0.1, initial_noise_mean: float=0.0):\n",
    "    \"\"\"Performs Basic Hill Climbing Algorithm\n",
    "    \n",
    "    Args:\n",
    "        n_episodes: number of episodes for trying out adapted weights\n",
    "    \n",
    "    \"\"\"\n",
    "    noise_std = initial_noise_std\n",
    "    noise_mean = initial_noise_mean\n",
    "    \n",
    "    best_params = agent.get_params()\n",
    "    # estimated return of current policy\n",
    "    G_best = run_single_episode(env, agent)\n",
    "    \n",
    "    print(\"Start with Return Estimate G = %s\" %G_best)\n",
    "    \n",
    "    return_history = [G_best]\n",
    "    for episode in range(n_episodes):\n",
    "        params_cand = add_noise(best_params)\n",
    "        agent.set_params(params_cand)\n",
    "        \n",
    "        G = run_single_episode(env, agent)\n",
    "                \n",
    "        if G > G_best:\n",
    "            G_best = G\n",
    "            best_params = params_cand\n",
    "            print(\"Episode %  s - Improved G to G_best = %s\" %(episode, G_best))\n",
    "        \n",
    "        agent.set_params(best_params)\n",
    "        return_history.append(G)\n",
    "            \n",
    "    return agent, return_history"
   ]
  },
  {
   "cell_type": "markdown",
   "metadata": {},
   "source": [
    "## Apply Hill Climbing Algorithm to solve Environment"
   ]
  },
  {
   "cell_type": "code",
   "execution_count": 271,
   "metadata": {},
   "outputs": [
    {
     "data": {
      "text/plain": [
       "<torch._C.Generator at 0x7fd715ddad90>"
      ]
     },
     "execution_count": 271,
     "metadata": {},
     "output_type": "execute_result"
    }
   ],
   "source": [
    "torch.random.manual_seed(42)"
   ]
  },
  {
   "cell_type": "code",
   "execution_count": 272,
   "metadata": {},
   "outputs": [],
   "source": [
    "cartpole_agent = Agent(state_size=env.observation_space.shape[0],\n",
    "                       action_size=env.action_space.n,\n",
    "                       hidden_size_1=16)\n",
    "n_episodes = 2000\n",
    "initial_noise_std = 0.05"
   ]
  },
  {
   "cell_type": "code",
   "execution_count": 273,
   "metadata": {},
   "outputs": [
    {
     "name": "stdout",
     "output_type": "stream",
     "text": [
      "Start with Return Estimate G = 9.0\n",
      "Episode 0 - Improved G to G_best = 12.0\n",
      "Episode 1 - Improved G to G_best = 13.0\n",
      "Episode 3 - Improved G to G_best = 14.0\n",
      "Episode 4 - Improved G to G_best = 33.0\n",
      "Episode 29 - Improved G to G_best = 34.0\n",
      "Episode 432 - Improved G to G_best = 37.0\n",
      "Episode 470 - Improved G to G_best = 38.0\n",
      "Episode 532 - Improved G to G_best = 53.0\n",
      "Episode 617 - Improved G to G_best = 73.0\n",
      "Episode 621 - Improved G to G_best = 106.0\n",
      "Episode 728 - Improved G to G_best = 109.0\n",
      "Episode 745 - Improved G to G_best = 110.0\n",
      "Episode 776 - Improved G to G_best = 200.0\n"
     ]
    }
   ],
   "source": [
    "opt_agent, return_history = perform_hill_climbing(cartpole_agent, env, n_episodes=n_episodes,\n",
    "                                                  initial_noise_std=initial_noise_std)"
   ]
  },
  {
   "cell_type": "code",
   "execution_count": 274,
   "metadata": {},
   "outputs": [
    {
     "data": {
      "image/png": "[encoded data removed]",
      "text/plain": [
       "<Figure size 1080x720 with 1 Axes>"
      ]
     },
     "metadata": {
      "needs_background": "light"
     },
     "output_type": "display_data"
    }
   ],
   "source": [
    "plt.figure(figsize=(15,10))\n",
    "plt.plot(range(len(return_history)), return_history, 'b-')\n",
    "plt.grid(True)\n",
    "plt.xlabel('Episode')\n",
    "plt.ylabel('Return')\n",
    "plt.show()"
   ]
  },
  {
   "cell_type": "markdown",
   "metadata": {},
   "source": [
    "Watch a (slightly) improved agent"
   ]
  },
  {
   "cell_type": "code",
   "execution_count": null,
   "metadata": {},
   "outputs": [],
   "source": [
    "state = env.reset()\n",
    "for i in range(2000):\n",
    "    env.render()\n",
    "    action = opt_agent.get_action(state)\n",
    "    state, reward, done, _ = env.step(action)\n",
    "    if done:\n",
    "        state = env.reset()\n",
    "\n",
    "env.close()"
   ]
  },
  {
   "cell_type": "markdown",
   "metadata": {},
   "source": [
    "## Apply diverse Improvements to Hill Climbing"
   ]
  },
  {
   "cell_type": "code",
   "execution_count": null,
   "metadata": {},
   "outputs": [],
   "source": []
  }
 ],
 "metadata": {
  "kernelspec": {
   "display_name": "Python 3",
   "language": "python",
   "name": "python3"
  },
  "language_info": {
   "codemirror_mode": {
    "name": "ipython",
    "version": 3
   },
   "file_extension": ".py",
   "mimetype": "text/x-python",
   "name": "python",
   "nbconvert_exporter": "python",
   "pygments_lexer": "ipython3",
   "version": "3.6.7"
  }
 },
 "nbformat": 4,
 "nbformat_minor": 2
}
